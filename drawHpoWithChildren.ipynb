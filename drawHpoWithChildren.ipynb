{
 "cells": [
  {
   "cell_type": "markdown",
   "metadata": {},
   "source": [
    "# Draw HPO\n",
    "\n",
    "This notebook shows how to use the hpotk and svg modules to draw a diagram that can be used in publications to display an HPO term, its children and the numkber of descendants.\n",
    "\n",
    "For this example, we focus on \"Abnormal social behavior\"\n",
    "\n",
    " pip install hpo-toolkit\n",
    " pip install \"drawsvg[all]~=2.0\"\n"
   ]
  },
  {
   "cell_type": "code",
   "execution_count": 94,
   "metadata": {},
   "outputs": [],
   "source": [
    "import hpotk"
   ]
  },
  {
   "cell_type": "code",
   "execution_count": 95,
   "metadata": {},
   "outputs": [],
   "source": [
    "## adjust path as needed\n",
    "hpo_json_path = \"../../data/hpo/hp.json\"\n",
    "hpo = hpotk.load_ontology(hpo_json_path)"
   ]
  },
  {
   "cell_type": "code",
   "execution_count": 96,
   "metadata": {},
   "outputs": [],
   "source": [
    "class SimpleTerm:\n",
    "    \"\"\"collect information needed for plotting\n",
    "    \"\"\"\n",
    "    def __init__(self, hpo_id, hpo_label, n_desc) -> None:\n",
    "        self.hpo_id = hpo_id\n",
    "        self.hpo_label = hpo_label\n",
    "        self.n_desc = n_desc\n",
    "\n",
    "    def get_label_with_id(self):\n",
    "        return f'{self.hpo_label} ({self.hpo_id})'\n",
    "\n",
    "    def get_n_desc(self):\n",
    "        return f'({self.n_desc})'\n",
    "\n",
    "def get_simple_term(hpo_ontology, term_id):\n",
    "    label = hpo_ontology.get_term_name(term_id)\n",
    "    desc_map = hpo_ontology.graph.get_descendants(term_id)\n",
    "    n_desc = sum([1 for d in desc_map])\n",
    "    return SimpleTerm(hpo_id=term_id, hpo_label=label, n_desc=n_desc)\n"
   ]
  },
  {
   "cell_type": "code",
   "execution_count": 97,
   "metadata": {},
   "outputs": [],
   "source": [
    "def get_simple_term_with_children(hpo_ontology, term_id):\n",
    "    \"\"\"\n",
    "    get simple term objects for the term of interest (term_id) and\n",
    "    the direct children of this term\n",
    "    \"\"\"\n",
    "    focus_sterm = get_simple_term(hpo_ontology, term_id)\n",
    "    children = list()\n",
    "    for child_id in hpo.graph.get_children(term_id):\n",
    "        child_sterm = get_simple_term(hpo_ontology, child_id)\n",
    "        children.append(child_sterm)\n",
    "    ## sort children alphabetically\n",
    "    children.sort(key=lambda x: x.hpo_label)\n",
    "    return focus_sterm, children\n"
   ]
  },
  {
   "cell_type": "code",
   "execution_count": 98,
   "metadata": {},
   "outputs": [],
   "source": [
    "# Abnormal social behavior HP:0012433\n",
    "focus_term_id = \"HP:0012433\"\n",
    "focus_sterm, children = get_simple_term_with_children(hpo, focus_term_id)\n"
   ]
  },
  {
   "cell_type": "markdown",
   "metadata": {},
   "source": [
    "# SVG\n",
    "\n",
    "We draw a relatively simple SVG object using the following functions"
   ]
  },
  {
   "cell_type": "code",
   "execution_count": 99,
   "metadata": {},
   "outputs": [],
   "source": [
    "def get_len_of_longest_label(sterm_list):\n",
    "    return max([len(st.hpo_label) for st in sterm_list])\n"
   ]
  },
  {
   "cell_type": "code",
   "execution_count": 100,
   "metadata": {},
   "outputs": [],
   "source": [
    "def svg_line(x1, y1, x2, y2):\n",
    "    return f'<line x1=\"{x1}\" y1=\"{y1}\" x2=\"{x2}\" y2=\"{y2}\" stroke=\"black\" stroke-width=\"2\"/>'\n",
    "\n",
    "def svg_text(x, y, msg):\n",
    "    return f'<text x=\"{x}\" y=\"{y}\">{msg}</text>'\n",
    "\n",
    "def svg_rect(x, y, w, h, fill_color):\n",
    "    return f'<rect x=\"{x}\" y=\"{y}\" width=\"{w}\" height=\"{h}\" fill=\"{fill_color}\" stroke=\"black\" stroke-width=\"2\"/>'\n",
    "\n",
    "def get_total_svg_height(n_children):\n",
    "    return 60 + 50*n_children\n",
    "\n",
    "def get_text_width(n):\n",
    "    \"\"\"\n",
    "    Heuristic because this is difficult because characters\n",
    "    do not have fixed width.\n",
    "    Adjust as needed\n",
    "    \"\"\"\n",
    "    if isinstance(n, str):\n",
    "        n = len(n)\n",
    "    if n < 25:\n",
    "        return 280\n",
    "    if n < 40:\n",
    "        return 350\n",
    "    return 480\n",
    "    # approximately nice\n",
    "\n",
    "def get_header(w, h):\n",
    "    return f'<svg width=\"{w}\" height=\"{h}\" xmlns=\"http://www.w3.org/2000/svg\">'\n",
    "\n",
    "def draw_svg(focus_term, child_terms, fill_color=\"#f2f9f7\"):\n",
    "    box_height = 25\n",
    "    x_nudge = 10 # how far away label is from edge of box on left\n",
    "    y_nudge = 17 # how far down text is from top of box\n",
    "    y_dist_to_next_term = 50\n",
    "    child_term_xpos = 100\n",
    "    height = get_total_svg_height(len(child_terms))\n",
    "    maxlen = get_len_of_longest_label(children)\n",
    "    width = 200 + get_text_width(maxlen)\n",
    "    lines = list()\n",
    "    lines.append(get_header(h=height, w=width))\n",
    "    # box with term of focus\n",
    "    start_x_pos = 10\n",
    "    start_y_pos = 20\n",
    "    x_left = start_x_pos\n",
    "    y_pos = start_y_pos\n",
    "    focus_term_width = get_text_width(focus_term.hpo_label)\n",
    "    focus_term_box = svg_rect(x=x_left, y=y_pos, w=focus_term_width, h=box_height, fill_color=fill_color)\n",
    "    focus_term_text =  svg_text(x=x_left+x_nudge,\n",
    "                                y=y_pos+y_nudge,\n",
    "                                msg=focus_term.get_label_with_id())\n",
    "    lines.append(focus_term_box)\n",
    "    lines.append(focus_term_text)\n",
    "    # now draw each of the children\n",
    "    x_left = child_term_xpos\n",
    "    child_term_width = get_text_width(maxlen)\n",
    "    for sterm in child_terms:\n",
    "        y_pos += y_dist_to_next_term\n",
    "        term_box = svg_rect(x=x_left, y=y_pos, w=child_term_width, h=box_height, fill_color=fill_color )\n",
    "        term_text =  svg_text(x=x_left+x_nudge,\n",
    "                                y=y_pos+y_nudge,\n",
    "                                msg=sterm.get_label_with_id())\n",
    "        count_text_x_pos = x_left + child_term_width + 10\n",
    "        count_text = svg_text(x=count_text_x_pos, y=y_pos+y_nudge, msg=sterm.get_n_desc())\n",
    "        lines.append(term_box)\n",
    "        lines.append(term_text)\n",
    "        lines.append(count_text)\n",
    "    ## draw lines to connect focus term with children\n",
    "    # vertical line\n",
    "    x_pos = start_x_pos + 10\n",
    "    x2_pos = 100\n",
    "    y1_pos = start_y_pos + box_height\n",
    "    y2_pos = y_pos + 0.5 * box_height # last y_pos of the for loop\n",
    "    svg_vline = svg_line(x1=x_pos, y1=y1_pos, x2=x_pos, y2=y2_pos)\n",
    "    lines.append(svg_vline)\n",
    "    # One horizontal line each to connect vertical line with children term boxes\n",
    "    y_pos = start_y_pos + 0.5 * box_height # the latter makes the line go to midbox\n",
    "    for sterm in child_terms:\n",
    "        y_pos += y_dist_to_next_term\n",
    "        svg_hline = svg_line(x1=x_pos, y1=y_pos, x2=child_term_xpos, y2=y_pos)\n",
    "        lines.append(svg_hline)\n",
    "    # all done\n",
    "    lines.append(\"</svg>\")\n",
    "    return \"\\n\".join(lines)\n",
    "\n",
    "\n",
    "def print_svg(svg_string, focus_term):\n",
    "    fname = focus_term.hpo_label.replace(\" \", \"_\") + \".svg\"\n",
    "    with open(fname, \"wt\") as fh:\n",
    "        fh.write(svg_string)"
   ]
  },
  {
   "cell_type": "code",
   "execution_count": 101,
   "metadata": {},
   "outputs": [],
   "source": [
    "def svg_to_pdf(focus_term):\n",
    "    \"\"\"\n",
    "    run this after print_svg to create the corresponding PDF\n",
    "    ONLY WORKS IF rsvg-convert is available on the shell\n",
    "    \"\"\"\n",
    "    import os\n",
    "    pdf_fname = focus_term.hpo_label.replace(\" \", \"_\") + \".png\"\n",
    "    svg_fname = focus_term.hpo_label.replace(\" \", \"_\") + \".svg\"\n",
    "    command_str = f'rsvg-convert -f pdf {svg_fname} -o {pdf_fname}'\n",
    "    os.system(command_str)\n"
   ]
  },
  {
   "cell_type": "code",
   "execution_count": 102,
   "metadata": {},
   "outputs": [],
   "source": [
    "blue_color = \"#4DBBD522\"\n",
    "orange_color = \"#F39B7F22\"\n",
    "green_color = \"#91D1C222\"\n",
    "svg_string = draw_svg(focus_term=focus_sterm, child_terms=children, fill_color=orange_color)\n",
    "print_svg(svg_string, focus_sterm)\n",
    "svg_to_pdf(focus_term=focus_sterm)"
   ]
  },
  {
   "cell_type": "markdown",
   "metadata": {},
   "source": [
    "# Create PNG\n",
    "\n",
    "To create a PNG that can be easily imported into Google docs, use the following command\n",
    "```\n",
    "pdftoppm -png Abnormal_social_behavior.pdf Abnormal_social_behavior\n",
    "```\n"
   ]
  },
  {
   "cell_type": "markdown",
   "metadata": {},
   "source": [
    "# Create a file for one of the descendents\n",
    "\n"
   ]
  },
  {
   "cell_type": "code",
   "execution_count": 103,
   "metadata": {},
   "outputs": [],
   "source": [
    "# Abnormal change in social behavior HP:5200243\n",
    "focus_term_id = \"HP:5200243\"\n",
    "focus_sterm, children = get_simple_term_with_children(hpo, focus_term_id)\n",
    "blue_color = \"#4DBBD522\"\n",
    "orange_color = \"#F39B7F22\"\n",
    "green_color = \"#91D1C222\"\n",
    "svg_string = draw_svg(focus_term=focus_sterm, child_terms=children, fill_color=orange_color)\n",
    "print_svg(svg_string, focus_sterm)\n",
    "svg_to_pdf(focus_term=focus_sterm)"
   ]
  }
 ],
 "metadata": {
  "kernelspec": {
   "display_name": "Python 3",
   "language": "python",
   "name": "python3"
  },
  "language_info": {
   "codemirror_mode": {
    "name": "ipython",
    "version": 3
   },
   "file_extension": ".py",
   "mimetype": "text/x-python",
   "name": "python",
   "nbconvert_exporter": "python",
   "pygments_lexer": "ipython3",
   "version": "3.8.10"
  }
 },
 "nbformat": 4,
 "nbformat_minor": 2
}
